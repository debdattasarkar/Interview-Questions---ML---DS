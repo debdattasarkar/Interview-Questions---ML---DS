{
 "cells": [
  {
   "cell_type": "markdown",
   "id": "1e2dcdef-6485-427d-98aa-5e99608455a7",
   "metadata": {},
   "source": [
    "#### Append At End"
   ]
  },
  {
   "cell_type": "code",
   "execution_count": 1,
   "id": "88e9c7e8-68fd-4066-949f-f77358409909",
   "metadata": {},
   "outputs": [
    {
     "name": "stdout",
     "output_type": "stream",
     "text": [
      "0\n",
      "1\n",
      "2\n",
      "3\n",
      "8\n"
     ]
    }
   ],
   "source": [
    "class Node:\n",
    "    def __init__(self, data):\n",
    "        self.data = data\n",
    "        self.next = None\n",
    "class linkedList:\n",
    "    def __init__(self):\n",
    "        self.head = None\n",
    "    def appendAtEnd(self, data):\n",
    "        new_node = Node(data)\n",
    "        if self.head is None:\n",
    "            self.head = new_node\n",
    "            return\n",
    "        current_node = self.head\n",
    "        while (current_node.next):\n",
    "            current_node = current_node.next\n",
    "        current_node.next = new_node\n",
    "    def printLinkedList(self):\n",
    "        currentnode = self.head\n",
    "        while (currentnode):\n",
    "            print(currentnode.data)\n",
    "            currentnode = currentnode.next\n",
    "                \n",
    "lst = [1, 2, 3, 4]\n",
    "llist = linkedList()\n",
    "for lst_ech in range(len(lst)):\n",
    "    llist.appendAtEnd(lst_ech)\n",
    "# llist.printLinkedList()\n",
    "llist.appendAtEnd(8)\n",
    "llist.printLinkedList()"
   ]
  },
  {
   "cell_type": "markdown",
   "id": "9d10ddac-1655-4dbd-ad92-66533df3dccd",
   "metadata": {},
   "source": [
    "#### Append At Beginning"
   ]
  },
  {
   "cell_type": "code",
   "execution_count": 2,
   "id": "ff5d77d1-2198-448e-a977-be7a06cb65d2",
   "metadata": {},
   "outputs": [
    {
     "name": "stdout",
     "output_type": "stream",
     "text": [
      "Bn\n",
      "0\n",
      "1\n",
      "2\n",
      "3\n",
      "Ed\n"
     ]
    }
   ],
   "source": [
    "class Node:\n",
    "    def __init__(self, data):\n",
    "        self.data = data\n",
    "        self.next = None\n",
    "\n",
    "class linkedList:\n",
    "    def __init__(self):\n",
    "        self.head = None\n",
    "    def appendAtEnd(self, data):\n",
    "        new_node = Node(data)\n",
    "        if self.head is None:\n",
    "            self.head = new_node\n",
    "            return\n",
    "        current_node = self.head\n",
    "        while (current_node.next):\n",
    "            current_node = current_node.next\n",
    "        current_node.next = new_node\n",
    "    def insertAtBegin(self, data):\n",
    "        new_node = Node(data)\n",
    "        if self.head is None:\n",
    "            self.head = new_node\n",
    "            return\n",
    "        else:\n",
    "            new_node.next = self.head\n",
    "            self.head = new_node\n",
    "    def printLinkedList(self):\n",
    "        currentnode = self.head\n",
    "        while (currentnode):\n",
    "            print(currentnode.data)\n",
    "            currentnode = currentnode.next        \n",
    "    \n",
    "lst = [1, 2, 3, 4]\n",
    "llist = linkedList()\n",
    "for lst_ech in range(len(lst)):\n",
    "    llist.appendAtEnd(lst_ech)\n",
    "# llist.printLinkedList()\n",
    "llist.appendAtEnd('Ed')\n",
    "llist.insertAtBegin('Bn')\n",
    "llist.printLinkedList()"
   ]
  },
  {
   "cell_type": "code",
   "execution_count": 3,
   "id": "a5683b1c-eda6-407b-98be-c2b1481e51d8",
   "metadata": {},
   "outputs": [
    {
     "name": "stdout",
     "output_type": "stream",
     "text": [
      "Bn\n",
      "0\n",
      "1\n",
      "Mid\n",
      "2\n",
      "3\n",
      "Ed\n"
     ]
    }
   ],
   "source": [
    "class Node:\n",
    "    def __init__(self, data):\n",
    "        self.data = data\n",
    "        self.next = None\n",
    "\n",
    "class linkedList:\n",
    "    def __init__(self):\n",
    "        self.head = None\n",
    "    def appendAtEnd(self, data):\n",
    "        new_node = Node(data)\n",
    "        if self.head is None:\n",
    "            self.head = new_node\n",
    "            return\n",
    "        current_node = self.head\n",
    "        while (current_node.next):\n",
    "            current_node = current_node.next\n",
    "        current_node.next = new_node\n",
    "    def insertAtBegin(self, data):\n",
    "        new_node = Node(data)\n",
    "        if self.head is None:\n",
    "            self.head = new_node\n",
    "            return\n",
    "        else:\n",
    "            new_node.next = self.head\n",
    "            self.head = new_node\n",
    "    def printLinkedList(self):\n",
    "        currentnode = self.head\n",
    "        while (currentnode):\n",
    "            print(currentnode.data)\n",
    "            currentnode = currentnode.next        \n",
    "    def insertAtIndex(self, data, index):\n",
    "        new_node = Node(data)\n",
    "        current_node = self.head\n",
    "        position = 0\n",
    "        if position == index:\n",
    "            self.insertAtBegin(data)\n",
    "        else:\n",
    "            while(current_node != None and position+1 != index):\n",
    "                position = position+1\n",
    "                current_node = current_node.next\n",
    " \n",
    "            if current_node != None:\n",
    "                new_node.next = current_node.next\n",
    "                current_node.next = new_node\n",
    "            else:\n",
    "                print(\"Index not present\")\n",
    "lst = [1, 2, 3, 4]\n",
    "llist = linkedList()\n",
    "for lst_ech in range(len(lst)):\n",
    "    llist.appendAtEnd(lst_ech)\n",
    "# llist.printLinkedList()\n",
    "llist.appendAtEnd('Ed')\n",
    "llist.insertAtBegin('Bn')\n",
    "llist.insertAtIndex('Mid', 3)\n",
    "llist.printLinkedList()"
   ]
  },
  {
   "cell_type": "code",
   "execution_count": null,
   "id": "b6420c6f-398d-4ad2-b959-699c2889797c",
   "metadata": {},
   "outputs": [],
   "source": []
  }
 ],
 "metadata": {
  "kernelspec": {
   "display_name": "Python 3 (ipykernel)",
   "language": "python",
   "name": "python3"
  },
  "language_info": {
   "codemirror_mode": {
    "name": "ipython",
    "version": 3
   },
   "file_extension": ".py",
   "mimetype": "text/x-python",
   "name": "python",
   "nbconvert_exporter": "python",
   "pygments_lexer": "ipython3",
   "version": "3.10.13"
  }
 },
 "nbformat": 4,
 "nbformat_minor": 5
}
