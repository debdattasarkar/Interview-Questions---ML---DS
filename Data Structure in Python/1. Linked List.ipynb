{
 "cells": [
  {
   "cell_type": "markdown",
   "id": "1e2dcdef-6485-427d-98aa-5e99608455a7",
   "metadata": {},
   "source": [
    "#### Append At End"
   ]
  },
  {
   "cell_type": "code",
   "execution_count": 5,
   "id": "88e9c7e8-68fd-4066-949f-f77358409909",
   "metadata": {},
   "outputs": [
    {
     "name": "stdout",
     "output_type": "stream",
     "text": [
      "0\n",
      "1\n",
      "2\n",
      "3\n"
     ]
    }
   ],
   "source": [
    "class Node:\n",
    "    def __init__(self, data):\n",
    "        self.data = data\n",
    "        self.next = None\n",
    "class linkedList:\n",
    "    def __init__(self):\n",
    "        self.head = None\n",
    "    def appendAtEnd(self, data):\n",
    "        new_node = Node(data)\n",
    "        if self.head is None:\n",
    "            self.head = new_node\n",
    "            return\n",
    "        current_node = self.head\n",
    "        while (current_node.next):\n",
    "            current_node = current_node.next\n",
    "        current_node.next = new_node\n",
    "    def printLinkedList(self):\n",
    "        currentnode = self.head\n",
    "        while (currentnode):\n",
    "            print(currentnode.data)\n",
    "            currentnode = currentnode.next\n",
    "                \n",
    "lst = [1, 2, 3, 4]\n",
    "llist = linkedList()\n",
    "for lst_ech in range(len(lst)):\n",
    "    llist.appendAtEnd(lst_ech)\n",
    "llist.printLinkedList()"
   ]
  },
  {
   "cell_type": "code",
   "execution_count": null,
   "id": "f5af1390-7230-4eaf-950a-73c401d7e217",
   "metadata": {},
   "outputs": [],
   "source": []
  }
 ],
 "metadata": {
  "kernelspec": {
   "display_name": "Python 3 (ipykernel)",
   "language": "python",
   "name": "python3"
  },
  "language_info": {
   "codemirror_mode": {
    "name": "ipython",
    "version": 3
   },
   "file_extension": ".py",
   "mimetype": "text/x-python",
   "name": "python",
   "nbconvert_exporter": "python",
   "pygments_lexer": "ipython3",
   "version": "3.10.13"
  }
 },
 "nbformat": 4,
 "nbformat_minor": 5
}
